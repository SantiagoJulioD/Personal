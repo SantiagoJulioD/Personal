{
 "cells": [
  {
   "cell_type": "code",
   "execution_count": 1,
   "id": "bc85de30-2715-4134-b5e9-005beecee36b",
   "metadata": {},
   "outputs": [],
   "source": [
    "import numpy as np"
   ]
  },
  {
   "cell_type": "code",
   "execution_count": 4,
   "id": "fdbf28ee-1d5e-445e-aa49-ff060b0dd74d",
   "metadata": {},
   "outputs": [],
   "source": [
    "def ang(d,m,s):\n",
    "    return np.deg2rad(d+m/60+s/3600)"
   ]
  },
  {
   "cell_type": "code",
   "execution_count": 6,
   "id": "4724be9f-f223-4fc2-8f20-96f3407585b1",
   "metadata": {},
   "outputs": [
    {
     "data": {
      "text/plain": [
       "1.014618071826037"
      ]
     },
     "execution_count": 6,
     "metadata": {},
     "output_type": "execute_result"
    }
   ],
   "source": [
    "θ=58,8,0\n",
    "ang(*θ)"
   ]
  },
  {
   "cell_type": "code",
   "execution_count": 19,
   "id": "e3de97f9-e6d9-4d76-b3fd-903bf24712f9",
   "metadata": {},
   "outputs": [],
   "source": [
    "def cos_lad(b,c,A):\n",
    "    '''\n",
    "    -------------------------------------\n",
    "    Calcula el lado faltante dados los otros dos y el ángulo entre ellos usando, el teorema del coseno para lados.\n",
    "    -------------------------------------\n",
    "    '''\n",
    "    if isinstance(b,tuple):\n",
    "        b=ang(*b)\n",
    "    else:\n",
    "        b=np.deg2rad(b)\n",
    "    if isinstance(c,tuple):\n",
    "        c=ang(*c)\n",
    "    else:\n",
    "        c=np.deg2rad(c)\n",
    "    if isinstance(A,tuple):\n",
    "        A=ang(*A)\n",
    "    else:\n",
    "        A=np.deg2rad(A)\n",
    "    a=np.rad2deg(np.arccos(np.cos(b)*np.cos(c)+np.sin(b)*np.sin(c)*np.cos(A)))\n",
    "    a_d=int(a)\n",
    "    a_m,a_s=divmod((a - a_d) * 3600, 60)\n",
    "    return (a_d,a_m,a_s)"
   ]
  },
  {
   "cell_type": "code",
   "execution_count": 20,
   "id": "8df261b9-df58-449d-865a-09b1d58c7b23",
   "metadata": {},
   "outputs": [],
   "source": [
    "def cos_ang(B,C,a):\n",
    "    '''\n",
    "    -------------------------------------\n",
    "    Calcula el ángulo faltante dados los otros dos y el lado entre ellos, usando el teorema del coseno para ángulos.\n",
    "    -------------------------------------\n",
    "    '''\n",
    "    if isinstance(B,tuple):\n",
    "        B=ang(*B)\n",
    "    else:\n",
    "        B=np.deg2rad(B)\n",
    "    if isinstance(C,tuple):\n",
    "        C=ang(*C)\n",
    "    else:\n",
    "        C=np.deg2rad(C)\n",
    "    if isinstance(a,tuple):\n",
    "        a=ang(*a)\n",
    "    else:\n",
    "        a=np.deg2rad(a)\n",
    "    A=np.rad2deg(np.arccos(-np.cos(B)*np.cos(C)+np.sin(B)*np.sin(C)*np.cos(a)))\n",
    "    A_d=int(A)\n",
    "    A_m,A_s=divmod((A - A_d) * 3600, 60)\n",
    "    return (A_d,A_m,A_s)"
   ]
  },
  {
   "cell_type": "code",
   "execution_count": 17,
   "id": "5d3d409e-c4ba-4b11-a799-9645c62123a2",
   "metadata": {},
   "outputs": [],
   "source": [
    "def sin(A,C,c):\n",
    "    '''\n",
    "    -------------------------------------\n",
    "    Calcula el ángulo o lado opuesto dada una pareja ángulo-lado opuesto. \n",
    "    El primer argumento de la función es el lado o ángulo desapareado,\n",
    "    el siguiente es el elemento de la pareja de la misma naturaleza del primero,\n",
    "    el tercero es el elemento restante.\n",
    "    -------------------------------------\n",
    "    '''\n",
    "    if isinstance(A,tuple):\n",
    "        A=ang(*A)\n",
    "    else:\n",
    "        A=np.deg2rad(A)\n",
    "    if isinstance(C,tuple):\n",
    "        C=ang(*C)\n",
    "    else:\n",
    "        C=np.deg2rad(C)\n",
    "    if isinstance(c,tuple):\n",
    "        c=ang(*c)\n",
    "    else:\n",
    "        c=np.deg2rad(c)\n",
    "    a1=np.rad2deg(np.arcsin(np.sin(c)*np.sin(A)/np.sin(C)))\n",
    "    a1_d=int(a1)\n",
    "    a1_m,a1_s=divmod((a1 - a1_d) * 3600, 60)\n",
    "    a2=180-a1\n",
    "    a2_d=int(a2)\n",
    "    a2_m,a2_s=divmod((a2 - a2_d) * 3600, 60)\n",
    "    return [(a1_d,a1_m,a1_s),(a2_d,a2_m,a2_s)]"
   ]
  },
  {
   "cell_type": "code",
   "execution_count": 21,
   "id": "08571ba7-b151-4ba4-91a9-0ccac86c968b",
   "metadata": {},
   "outputs": [],
   "source": [
    "def cos_angl(a,b,c):\n",
    "    '''\n",
    "    -------------------------------------\n",
    "    Calcula el ángulo opuesto a uno de los lados dados los tres lados, usando el teorema del coseno para lados.\n",
    "    El primer argumento es el lado opuesto al ángulo que se quiere hallar.\n",
    "    -------------------------------------\n",
    "    '''\n",
    "    if isinstance(a,tuple):\n",
    "        a=ang(*a)\n",
    "    else:\n",
    "        a=np.deg2rad(a)\n",
    "    if isinstance(b,tuple):\n",
    "        b=ang(*b)\n",
    "    else:\n",
    "        b=np.deg2rad(b)\n",
    "    if isinstance(c,tuple):\n",
    "        c=ang(*c)\n",
    "    else:\n",
    "        c=np.deg2rad(c)\n",
    "    A=np.rad2deg(np.arccos((np.cos(a)-np.cos(b)*np.cos(c))/(np.sin(b)*np.sin(c))))\n",
    "    A_d=int(A)\n",
    "    A_m,A_s=divmod((A - A_d) * 3600, 60)\n",
    "    return (A_d,A_m,A_s)"
   ]
  },
  {
   "cell_type": "code",
   "execution_count": 23,
   "id": "60f373bf-77d4-46e2-9d7b-74b71752cc77",
   "metadata": {},
   "outputs": [],
   "source": [
    "def cos_lada(A,B,C):\n",
    "    '''\n",
    "    -------------------------------------\n",
    "    Calcula el lado opuesto a uno de los ángulos dados los tres ángulos, usando el teorema del coseno para ángulos.\n",
    "    El primer argumento es el ángulo opuesto al lado que se quiere hallar.\n",
    "    -------------------------------------\n",
    "    '''\n",
    "    if isinstance(A,tuple):\n",
    "        A=ang(*A)\n",
    "    else:\n",
    "        A=np.deg2rad(A)\n",
    "    if isinstance(B,tuple):\n",
    "        B=ang(*B)\n",
    "    else:\n",
    "        B=np.deg2rad(B)\n",
    "    if isinstance(C,tuple):\n",
    "        C=ang(*C)\n",
    "    else:\n",
    "        C=np.deg2rad(C)\n",
    "    a=np.rad2deg(np.arccos((np.cos(A)+np.cos(B)*np.cos(C))/(np.sin(B)*np.sin(C))))\n",
    "    a_d=int(a)\n",
    "    a_m,a_s=divmod((a - a_d) * 3600, 60)\n",
    "    return (a_d,a_m,a_s)"
   ]
  },
  {
   "cell_type": "code",
   "execution_count": 24,
   "id": "f654f435-c010-43da-bbf0-5c94900d2783",
   "metadata": {},
   "outputs": [],
   "source": [
    "def cos(A,C,a,c):\n",
    "    '''\n",
    "    -------------------------------------\n",
    "    Calcula el lado faltante dadas las otras dos parejas ángulo-lado.\n",
    "    Los dos primeros argumentos son los ángulos; los dos restantes, los lados.\n",
    "    -------------------------------------\n",
    "    '''\n",
    "    if isinstance(A,tuple):\n",
    "        A=ang(*A)\n",
    "    else:\n",
    "        A=np.deg2rad(A)\n",
    "    if isinstance(a,tuple):\n",
    "        a=ang(*a)\n",
    "    else:\n",
    "        a=np.deg2rad(a)\n",
    "    if isinstance(C,tuple):\n",
    "        C=ang(*C)\n",
    "    else:\n",
    "        C=np.deg2rad(C)\n",
    "    if isinstance(c,tuple):\n",
    "        c=ang(*c)\n",
    "    else:\n",
    "        c=np.deg2rad(c)\n",
    "    b=np.rad2deg(np.arccos((np.cos(a)*np.cos(c)-np.sin(a)*np.sin(c)*np.cos(A)*np.cos(C))/(1-np.sin(a)*np.sin(c)*np.sin(A)*np.sin(C))))\n",
    "    b_d=int(b)\n",
    "    b_m,b_s=divmod((b - b_d) * 3600, 60)\n",
    "    return (b_d,b_m,b_s)"
   ]
  },
  {
   "cell_type": "code",
   "execution_count": 25,
   "id": "734c7f45-3d3b-42c0-9321-97d5fcdaafff",
   "metadata": {},
   "outputs": [
    {
     "data": {
      "text/plain": [
       "(57, 46.0, 59.24551945119765)"
      ]
     },
     "execution_count": 25,
     "metadata": {},
     "output_type": "execute_result"
    }
   ],
   "source": [
    "a=43,46,28\n",
    "A=51,28,21\n",
    "c=60,15,7\n",
    "C=79,2,40.78\n",
    "cos(A,C,a,c)"
   ]
  },
  {
   "cell_type": "code",
   "execution_count": null,
   "id": "22b843f0-e601-4a1f-9c17-95ae26090175",
   "metadata": {},
   "outputs": [],
   "source": []
  }
 ],
 "metadata": {
  "kernelspec": {
   "display_name": "Python 3 (ipykernel)",
   "language": "python",
   "name": "python3"
  },
  "language_info": {
   "codemirror_mode": {
    "name": "ipython",
    "version": 3
   },
   "file_extension": ".py",
   "mimetype": "text/x-python",
   "name": "python",
   "nbconvert_exporter": "python",
   "pygments_lexer": "ipython3",
   "version": "3.9.7"
  }
 },
 "nbformat": 4,
 "nbformat_minor": 5
}
